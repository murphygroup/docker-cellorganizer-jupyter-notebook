{
 "cells": [
  {
   "cell_type": "markdown",
   "metadata": {},
   "source": [
    "# demo3D15"
   ]
  },
  {
   "cell_type": "markdown",
   "metadata": {},
   "source": [
    "Synthesize one multichannel 3D image from an endosomal model and\n",
    "diffeomorphic nuclear and cell shape model. The sampling method was set to render endosomes as ellipsoids without convolution. The model was trained from the Murphy Lab 3D HeLa dataset."
   ]
  },
  {
   "cell_type": "markdown",
   "metadata": {},
   "source": [
    "# Input"
   ]
  },
  {
   "cell_type": "markdown",
   "metadata": {},
   "source": [
    "* a valid CellOrganizer model file with a diffeomorphic framework"
   ]
  },
  {
   "cell_type": "markdown",
   "metadata": {},
   "source": [
    "# Output"
   ]
  },
  {
   "cell_type": "markdown",
   "metadata": {},
   "source": [
    "* three TIFF files (nuclear, cell shape, and endosomal channels)"
   ]
  },
  {
   "cell_type": "code",
   "execution_count": null,
   "metadata": {},
   "outputs": [],
   "source": [
    "from cellorganizer.tools import slml2img\n",
    "\n",
    "\n",
    "options = {}\n",
    "options['targetDirectory'] = 'outputDirectory'\n",
    "options['prefix'] = 'img'\n",
    "options['numberOfSynthesizedImages'] = 1\n",
    "options['image.compression'] = 'lzw'\n",
    "options['microscope'] = 'none'\n",
    "options['sampling.method'] = 'disc'\n",
    "options['verbose'] = True\n",
    "options['debug'] = False\n",
    "options['numberOfGaussianObjects'] = 5\n",
    "options['synthesis'] = 'all'\n",
    "\n",
    "\n",
    "filenames =  ['/home/murphylab/cellorganizer/models/3D/lamp2.mat']\n",
    "\n",
    "\n",
    "slml2img( filenames, options )"
   ]
  }
 ],
 "metadata": {
  "kernelspec": {
   "display_name": "Python 3",
   "language": "python",
   "name": "python3"
  },
  "language_info": {
   "codemirror_mode": {
    "name": "ipython",
    "version": 3
   },
   "file_extension": ".py",
   "mimetype": "text/x-python",
   "name": "python",
   "nbconvert_exporter": "python",
   "pygments_lexer": "ipython3",
   "version": "3.6.8"
  }
 },
 "nbformat": 4,
 "nbformat_minor": 2
}
