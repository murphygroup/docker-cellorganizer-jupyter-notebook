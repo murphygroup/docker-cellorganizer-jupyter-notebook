{
 "cells": [
  {
   "cell_type": "markdown",
   "metadata": {},
   "source": [
    "# demo3D20"
   ]
  },
  {
   "cell_type": "markdown",
   "metadata": {},
   "source": [
    " Train 3D generative diffeomorphic model of the cell framework (nucleus and cell shape) using 10 images Murphy Lab 3D HeLa LAMP2 dataset."
   ]
  },
  {
   "cell_type": "markdown",
   "metadata": {},
   "source": [
    "# Input"
   ]
  },
  {
   "cell_type": "markdown",
   "metadata": {},
   "source": [
    "* a directory of raw or synthetic nucleus images\n",
    "* a directory of raw or synthetic cell shape images\n",
    "* a directory of raw or synthetic lysosome images\n",
    "* the resolution of the images (all images should have the same resolution)"
   ]
  },
  {
   "cell_type": "markdown",
   "metadata": {},
   "source": [
    "# Output"
   ]
  },
  {
   "cell_type": "markdown",
   "metadata": {},
   "source": [
    "* a valid SLML model file\n",
    "* a visualization of the shape space"
   ]
  },
  {
   "cell_type": "code",
   "execution_count": 1,
   "metadata": {},
   "outputs": [
    {
     "data": {
      "text/plain": [
       "0"
      ]
     },
     "execution_count": 1,
     "metadata": {},
     "output_type": "execute_result"
    }
   ],
   "source": [
    "import os\n",
    "os.system('ls ../../../images/HeLa/3D/processed')"
   ]
  },
  {
   "cell_type": "code",
   "execution_count": 2,
   "metadata": {},
   "outputs": [],
   "source": [
    "from cellorganizer.tools import img2slml\n",
    "import glob\n",
    "import urllib.request\n",
    "import tarfile \n",
    "import os\n",
    "import datetime \n",
    "\n",
    "options = {}\n",
    "options['verbose'] = True\n",
    "options['debug'] = True\n",
    "\n",
    "\n",
    "options['model.name'] = 'demo3D20'\n",
    "options['model.id'] = str(datetime.datetime.now())\n",
    "options['model.filename'] = 'model.xml'\n",
    "\n",
    "options['nucleus.type'] = 'diffeomorphic'\n",
    "options['nucleus.class'] = 'framework'\n",
    "options['nucleus.id'] = str(datetime.datetime.now())\n",
    "options['nucleus.name'] = 'lamp2'\n",
    "\n",
    "\n",
    "options['cell.type'] = 'diffeomorphic'\n",
    "options['cell.class'] = 'framework'\n",
    "options['cell.model'] = 'lamp2'\n",
    "options['cell.id'] = str(datetime.datetime.now())\n",
    "\n",
    "directory = '../../../images/HeLa/3D/processed/'\n",
    "dnaImagesDirectoryPath,cellImagesDirectoryPath,proteinImagesDirectoryPath,options['masks']=[],[],[],[]\n",
    "for i in range(1,16):\n",
    "    dnaImagesDirectoryPath.append(directory+\"LAM_cell\"+str(i)+\"_ch0_t1.tif\" )\n",
    "    cellImagesDirectoryPath.append(directory+\"LAM_cell\"+str(i)+\"_ch1_t1.tif\")\n",
    "    proteinImagesDirectoryPath.append(directory+\"LAM_cell\"+str(i)+\"_ch2_t1.tif\")\n",
    "    options['masks'].append(directory+\"LAM_cell\"+str(i)+\"_mask_t1.tif\")\n",
    "\n",
    "options['model.resolution'] = [0.049, 0.049, 0.2000]\n",
    "options['downsampling'] = [5,5,1]\n",
    "options['train.flag'] = 'framework'\n",
    "\n",
    "# print(dnaImagesDirectoryPath)\n",
    "\n",
    "dimensionality = '3D'\n",
    "img2slml( dimensionality, dnaImagesDirectoryPath, cellImagesDirectoryPath, [], options )"
   ]
  },
  {
   "cell_type": "code",
   "execution_count": null,
   "metadata": {},
   "outputs": [],
   "source": []
  },
  {
   "cell_type": "code",
   "execution_count": null,
   "metadata": {},
   "outputs": [],
   "source": []
  }
 ],
 "metadata": {
  "kernelspec": {
   "display_name": "Python 3",
   "language": "python",
   "name": "python3"
  },
  "language_info": {
   "codemirror_mode": {
    "name": "ipython",
    "version": 3
   },
   "file_extension": ".py",
   "mimetype": "text/x-python",
   "name": "python",
   "nbconvert_exporter": "python",
   "pygments_lexer": "ipython3",
   "version": "3.6.8"
  }
 },
 "nbformat": 4,
 "nbformat_minor": 2
}
