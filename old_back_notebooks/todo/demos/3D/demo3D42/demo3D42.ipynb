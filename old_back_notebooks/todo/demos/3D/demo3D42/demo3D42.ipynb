{
 "cells": [
  {
   "cell_type": "markdown",
   "metadata": {},
   "source": [
    "# demo3D42\n",
    "This demo illustrates using CellOrganizer to train a protein distribution\n",
    "model following the approach described in\n",
    "\n",
    "\n",
    "## Input \n",
    "* image and annotation files for one or more proteins for one or more\n",
    "  time points (the default is to use images from the paper of LAT at time 0 \n",
    "  ;downloading the needed images requires about 4 GB of free disk space)\n",
    "\n",
    "\n",
    "## Output\n",
    "* a model for the average concentration in each voxel of a standardized\n",
    "  cell shape (in demos/LAT_reltime_1.mat)\n",
    "* various intermediate results files (in /param and /tmp)\n"
   ]
  },
  {
   "cell_type": "code",
   "execution_count": 3,
   "metadata": {},
   "outputs": [],
   "source": [
    "from cellorganizer.tools import img2slml\n",
    "\n",
    "options = {}\n",
    "#set up intermediate result location\n",
    "results_location =  './models'\n",
    "\n",
    "#set up synapse location\n",
    "synapse_location = {'../../../images/LAT/annotations/*.csv'}\n",
    "\n",
    "#options['image_location'] = image_location\n",
    "options['model.tcell.synapse_location'] = synapse_location\n",
    "\n",
    "options['results_location'] = results_location\n",
    "# the running choice for cellorganizer and one sensor of two-point annotation. \n",
    "options['model.tcell.named_options_set'] = 'cellorganizer_one_sensor_2pt'\n",
    "\n",
    "# set up the mode of synapse to use, as a default, we use one-point, if\n",
    "# needed you can use two-point by set up the option as true\n",
    "options['model.tcell.use_two_point_synapses'] = True\n",
    "\n",
    "#set up protein name\n",
    "options['model.tcell.sensor'] = 'LAT'\n",
    "\n",
    "#set up which time points need to analyze\n",
    "options['model.tcell.timepoints_to_include'] = [0]\n",
    "\n",
    "# set up condition \n",
    "#options['tcell.conditions_to_include'] = {'Full Stimulus'}\n",
    "options['model.tcell.model_type_to_include'] = {'standardized_voxels'}\n",
    "options['model.resolution'] = [0.049, 0.049, 0.2000]\n",
    "\n",
    "options['train.flag'] = 'protein'\n",
    "\n",
    "#set up protein model type\n",
    "options['protein.class'] = 'standardized_voxels'\n",
    "options['protein.type'] = 'standardized_map_half-ellipsoid'\n",
    "\n",
    "options['train.flag'] = 'protein'\n",
    "\n",
    "#set up model name\n",
    "options['model_prefix'] = 'LAT_'\n",
    "\n",
    "options['model.tcell.ometiff'] = False\n",
    "\n",
    "#set up model filename\n",
    "options['model.filename'] = 'model.xml'\n",
    "\n",
    "options['debug'] = True\n",
    "options['verbose'] = True\n",
    "\n",
    "dimensionality = '3D';\n",
    "options['dimensionality'] = dimensionality\n",
    "\n",
    "img2slml(dimensionality, {}, {}, {}, options)\n",
    "\n"
   ]
  },
  {
   "cell_type": "code",
   "execution_count": null,
   "metadata": {},
   "outputs": [],
   "source": []
  }
 ],
 "metadata": {
  "kernelspec": {
   "display_name": "Python 3",
   "language": "python",
   "name": "python3"
  },
  "language_info": {
   "codemirror_mode": {
    "name": "ipython",
    "version": 3
   },
   "file_extension": ".py",
   "mimetype": "text/x-python",
   "name": "python",
   "nbconvert_exporter": "python",
   "pygments_lexer": "ipython3",
   "version": "3.6.8"
  }
 },
 "nbformat": 4,
 "nbformat_minor": 2
}
