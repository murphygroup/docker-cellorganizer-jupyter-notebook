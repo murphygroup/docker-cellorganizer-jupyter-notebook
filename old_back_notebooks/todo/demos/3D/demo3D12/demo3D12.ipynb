{
 "cells": [
  {
   "cell_type": "markdown",
   "metadata": {},
   "source": [
    "# demo3D12\n",
    "Train 3D generative model of the nucleus, cell shape, and lysosome using 30 LAMP2 images in the Murphy Lab 3D HeLa dataset.\n",
    "\n",
    "## Input \n",
    "* a directory of raw or synthetic nucleus images\n",
    "* a directory of raw or synthetic cell shape images\n",
    "* a directory of raw or synthetic lysosome images\n",
    "* the resolution of the images (all images should have the same resolution)\n",
    "\n",
    "## Output\n",
    "* a valid SLML model file"
   ]
  },
  {
   "cell_type": "code",
   "execution_count": 2,
   "metadata": {},
   "outputs": [],
   "source": [
    "from cellorganizer.tools import img2slml\n",
    "import glob\n",
    "import urllib.request\n",
    "import tarfile \n",
    "import os\n",
    "\n",
    "if not os.path.exists('../../../images/HeLa/3D/processed'):\n",
    "    os.system('wget -nc --quiet http://www.cellorganizer.org/Downloads/v2.8.0/docker/images/demo3D12.tgz;mkdir -p ../../../images/HeLa/3D/processed && tar -xvf demo3D12.tgz -C ../../../images/HeLa/3D/processed/ && rm -f demo3D12.tgz')\n",
    "\n",
    "pattern = 'LAMP2'\n",
    "dimensionality = '3D'\n",
    "\n",
    "options = {}\n",
    "options['model.name'] = 'all'\n",
    "options['model.id'] = 'num2str(now)'\n",
    "\n",
    "options['nucleus.type'] = 'cylindrical_surface'\n",
    "options['nucleus.class'] = 'nuclear_membrane'\n",
    "options['nucleus.id'] = 'num2str(now)'\n",
    "\n",
    "options['cell.type'] = 'ratio'\n",
    "options['cell.id'] = 'num2str(now)'\n",
    "options['cell.class'] = 'cell_membrane'\n",
    "\n",
    "options['protein.type'] = 'gmm'\n",
    "options['protein.class'] = 'vesicle'\n",
    "options['protein.id'] = 'num2str(now)'\n",
    "\n",
    "if options['protein.class'] == 'vesicle' :\n",
    "    options['protein.cytonuclearflag'] = 'nuc'\n",
    "else:\n",
    "    options['protein.cytonuclearflag'] = 'cyto'\n",
    "\n",
    "options['verbose'] = True\n",
    "options['debug'] = False\n",
    "options['documentation.description'] = 'This model has been trained using demo3D12 from CellOrganizer'\n",
    "\n",
    "directory = '../../../images/HeLa/3D/processed/'\n",
    "dnaImagesDirectoryPath,cellImagesDirectoryPath,proteinImagesDirectoryPath,options['masks']=[],[],[],[]\n",
    "for i in range(1,11):\n",
    "    dnaImagesDirectoryPath.append(directory+\"LAM_cell\"+str(i)+\"_ch0_t1.tif\" )\n",
    "    cellImagesDirectoryPath.append(directory+\"LAM_cell\"+str(i)+\"_ch1_t1.tif\")\n",
    "    proteinImagesDirectoryPath.append(directory+\"LAM_cell\"+str(i)+\"_ch2_t1.tif\")\n",
    "    options['masks'].append(directory+\"LAM_cell\"+str(i)+\"_mask_t1.tif\")\n",
    "\n",
    "options['train.flag'] = 'all'\n",
    "options['model.resolution'] = [0.049, 0.049, 0.2000]\n",
    "options['model.filename'] = 'LAMP2.xml'\n",
    "\n",
    "img2slml(dimensionality, dnaImagesDirectoryPath, cellImagesDirectoryPath, proteinImagesDirectoryPath, options)"
   ]
  },
  {
   "cell_type": "code",
   "execution_count": null,
   "metadata": {},
   "outputs": [],
   "source": []
  }
 ],
 "metadata": {
  "kernelspec": {
   "display_name": "Python 3",
   "language": "python",
   "name": "python3"
  },
  "language_info": {
   "codemirror_mode": {
    "name": "ipython",
    "version": 3
   },
   "file_extension": ".py",
   "mimetype": "text/x-python",
   "name": "python",
   "nbconvert_exporter": "python",
   "pygments_lexer": "ipython3",
   "version": "3.6.8"
  }
 },
 "nbformat": 4,
 "nbformat_minor": 2
}
