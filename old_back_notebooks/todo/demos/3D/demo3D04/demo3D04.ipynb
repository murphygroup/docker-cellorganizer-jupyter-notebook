{
 "cells": [
  {
   "cell_type": "markdown",
   "metadata": {},
   "source": [
    "# demo3D04"
   ]
  },
  {
   "cell_type": "markdown",
   "metadata": {},
   "source": [
    "Synthesize one 3D image with nuclear, cell shape, and microtubule\n",
    "channels from microtubule model without convolution. The model was\n",
    "trained from the Murphy Lab 3D HeLa dataset."
   ]
  },
  {
   "cell_type": "markdown",
   "metadata": {},
   "source": [
    "# Input"
   ]
  },
  {
   "cell_type": "markdown",
   "metadata": {},
   "source": [
    "* a valid CellOrganizer centrosome model file\n",
    "* a valid CellOrganizer microtubule model file"
   ]
  },
  {
   "cell_type": "markdown",
   "metadata": {},
   "source": [
    "# Output"
   ]
  },
  {
   "cell_type": "markdown",
   "metadata": {},
   "source": [
    "* three TIFF files (nuclear, cell shape, and microtubule channels)"
   ]
  },
  {
   "cell_type": "code",
   "execution_count": 2,
   "metadata": {},
   "outputs": [],
   "source": [
    "from cellorganizer.tools import slml2img\n",
    "\n",
    "\n",
    "options = {}\n",
    "options['targetDirectory'] = 'pwd'\n",
    "options['prefix'] = 'img'\n",
    "options['compression'] = 'lzw'\n",
    "options['microscope'] = 'none'\n",
    "options['debug'] = False\n",
    "options['verbose'] = True\n",
    "\n",
    "\n",
    "filenames = ['/home/murphylab/cellorganizer/models/3D/centro.mat',\n",
    "             '/home/murphylab/cellorganizer/models/3D/tub.mat']\n",
    "\n",
    "slml2img( filenames, options )"
   ]
  },
  {
   "cell_type": "code",
   "execution_count": null,
   "metadata": {},
   "outputs": [],
   "source": []
  }
 ],
 "metadata": {
  "kernelspec": {
   "display_name": "Python 3",
   "language": "python",
   "name": "python3"
  },
  "language_info": {
   "codemirror_mode": {
    "name": "ipython",
    "version": 3
   },
   "file_extension": ".py",
   "mimetype": "text/x-python",
   "name": "python",
   "nbconvert_exporter": "python",
   "pygments_lexer": "ipython3",
   "version": "3.6.8"
  }
 },
 "nbformat": 4,
 "nbformat_minor": 2
}
