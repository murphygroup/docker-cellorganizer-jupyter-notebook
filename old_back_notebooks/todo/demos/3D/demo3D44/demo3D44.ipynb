{
 "cells": [
  {
   "cell_type": "markdown",
   "metadata": {},
   "source": [
    "# demo3D44\n",
    "Synthesize a cell shape image from a given constructive_geometry model,\n",
    "specifically a half-ellipsoid model.\n",
    "\n",
    "\n",
    "\n",
    "\n",
    "## Input \n",
    "* a list of valid CellOrganizer half-ellipsoid model files\n",
    "\n",
    "\n",
    "## Output\n",
    "* a 3D stacked TIFF file\n"
   ]
  },
  {
   "cell_type": "code",
   "execution_count": null,
   "metadata": {},
   "outputs": [],
   "source": [
    "options['seed'] = 12345\n",
    "\n",
    "options['targetDirectory'] = pwd\n",
    "options['prefix'] = 'img'\n",
    "options['compression'] = 'lzw'\n",
    "options['sampling.method'] = 'disc'\n",
    "options['debug'] = false\n",
    "options['verbose'] = true\n",
    "options['display'] = false\n",
    "options['numberOfGaussianObjects'] = 25\n",
    "options['synthesis'] = 'framework'\n",
    "\n",
    "list_of_models = {'../../../models/3D/ellipsoid_model.mat'};\n",
    "\n",
    "answer = slml2img( list_of_models, options );\n"
   ]
  }
 ],
 "metadata": {
  "kernelspec": {
   "display_name": "Python 3",
   "language": "python",
   "name": "python3"
  },
  "language_info": {
   "codemirror_mode": {
    "name": "ipython",
    "version": 3
   },
   "file_extension": ".py",
   "mimetype": "text/x-python",
   "name": "python",
   "nbconvert_exporter": "python",
   "pygments_lexer": "ipython3",
   "version": "3.6.8"
  }
 },
 "nbformat": 4,
 "nbformat_minor": 2
}
