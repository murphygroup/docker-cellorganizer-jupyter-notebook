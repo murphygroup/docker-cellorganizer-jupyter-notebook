{
 "cells": [
  {
   "cell_type": "markdown",
   "metadata": {},
   "source": [
    "# demo3D40\n",
    "Train 3D generative model of the nucleus, cell shape, and lysosome using 30 LAMP2 images in the Murphy Lab 3D HeLa dataset.\n",
    "\n",
    "## Input \n",
    "* a directory of raw or synthetic nucleus images\n",
    "* a directory of raw or synthetic cell shape images\n",
    "* a directory of raw or synthetic lysosome images\n",
    "* the resolution of the images (all images should have the same resolution)\n",
    "\n",
    "## Output\n",
    "* a valid SLML model file"
   ]
  },
  {
   "cell_type": "code",
   "execution_count": 2,
   "metadata": {},
   "outputs": [],
   "source": [
    "from cellorganizer.tools import img2slml\n",
    "\n",
    "pattern = 'LAMP2'\n",
    "dimensionality = '3D'\n",
    "\n",
    "options = {}\n",
    "options['model.name'] = 'framework'\n",
    "options['model.id'] = 'num2str(now)'\n",
    "\n",
    "\n",
    "options['protein.name'] = 'lamp2'\n",
    "options['nucleus.name'] = 'lamp2'\n",
    "options['cell.model']   = 'lamp2'\n",
    "\n",
    "options['nucleus.type'] = 'cylindrical_surface'\n",
    "options['nucleus.class'] = 'nuclear_membrane'\n",
    "options['nucleus.id'] = 'num2str(now)'\n",
    "\n",
    "options['cell.type'] = 'ratio'\n",
    "options['cell.id'] = 'num2str(now)'\n",
    "options['cell.class'] = 'cell_membrane'\n",
    "\n",
    "options['protein.class'] = 'lysosome'\n",
    "options['protein.id'] = 'num2str(now)'\n",
    "options['protein.cytonuclearflag'] = 'cyto'\n",
    "options['train.flag']    = 'framework'\n",
    "\n",
    "\n",
    "options['verbose'] = True\n",
    "options['debug'] = False\n",
    "options['documentation.description'] = 'This model has been trained using demo3D40 from CellOrganizer'\n",
    "options['model.resolution'] = [0.049, 0.049, 0.2000]\n",
    "options['downsampling'] = [5,5,1]\n",
    "directory = '../../../local/images/HeLa/3D/ometiff_with_rois/hela_3d_processed_lam_cell*.ome.tif'\n",
    "\n",
    "dnaImagesDirectoryPath   = [directory + ':2:1']\n",
    "cellImagesDirectoryPath  = [directory + ':3:1']\n",
    "maskImagesDirectoryPath  = [directory + ':1:1']\n",
    "\n",
    "options['masks'] = maskImagesDirectoryPath\n",
    "\n",
    "img2slml( dimensionality, dnaImagesDirectoryPath, cellImagesDirectoryPath, [], options );"
   ]
  },
  {
   "cell_type": "code",
   "execution_count": null,
   "metadata": {},
   "outputs": [],
   "source": []
  }
 ],
 "metadata": {
  "hide_input": false,
  "kernelspec": {
   "display_name": "Python 3",
   "language": "python",
   "name": "python3"
  },
  "language_info": {
   "codemirror_mode": {
    "name": "ipython",
    "version": 3
   },
   "file_extension": ".py",
   "mimetype": "text/x-python",
   "name": "python",
   "nbconvert_exporter": "python",
   "pygments_lexer": "ipython3",
   "version": "3.6.8"
  }
 },
 "nbformat": 4,
 "nbformat_minor": 2
}
