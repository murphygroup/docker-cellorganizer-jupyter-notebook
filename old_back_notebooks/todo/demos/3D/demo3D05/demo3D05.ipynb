{
 "cells": [
  {
   "cell_type": "markdown",
   "metadata": {},
   "source": [
    "# demo3D05"
   ]
  },
  {
   "cell_type": "markdown",
   "metadata": {},
   "source": [
    "Synthesize one 3D image with nuclear, cell shape, and protein channels\n",
    "from all object models (nucleoli, lysosomes, endosomes, mitochondria, and microtubules) with sampling method set to sample vesicular objects from Gaussians without convolution. The model was trained from the Murphy Lab 3D HeLa dataset."
   ]
  },
  {
   "cell_type": "markdown",
   "metadata": {},
   "source": [
    "# Input"
   ]
  },
  {
   "cell_type": "markdown",
   "metadata": {},
   "source": [
    "* a list of valid CellOrganizer model files"
   ]
  },
  {
   "cell_type": "markdown",
   "metadata": {},
   "source": [
    "# Output"
   ]
  },
  {
   "cell_type": "markdown",
   "metadata": {},
   "source": [
    "* seven TIFF files (nuclear, cell shape, nucleolar, lysosomal, endosomal,\n",
    "mitochondrial, and microtubule channels)"
   ]
  },
  {
   "cell_type": "code",
   "execution_count": null,
   "metadata": {},
   "outputs": [],
   "source": [
    "from cellorganizer.tools import slml2img\n",
    "\n",
    "options = {}\n",
    "options['targetDirectory'] = 'pwd'\n",
    "options['prefix'] = 'img'\n",
    "options['compression'] = 'lzw'\n",
    "options['microscope'] = 'none'\n",
    "options['sampling.method'] = 'sampled'\n",
    "options['verbose'] = True\n",
    "options['debug'] = False\n",
    "options['overwrite_synthetic_instances'] = False\n",
    "options['rendAtStd'] = 1.0\n",
    "options['objstd '] = options['rendAtStd'] + 0.1\n",
    "options['overlapsubsize'] = 1\n",
    "options['numberOfGaussianObjects'] = 5\n",
    "options['output.OMETIFF'] = True\n",
    "\n",
    "\n",
    "filenames =  ['/home/murphylab/cellorganizer/models/3D/nuc.mat',\n",
    "             '/home/murphylab/cellorganizer/models/3D/lamp2.mat',\n",
    "             '/home/murphylab/cellorganizer/models/3D/tfr.mat', \n",
    "             '/home/murphylab/cellorganizer/models/3D/mit.mat',\n",
    "             '/home/murphylab/cellorganizer/models/3D/centro.mat',\n",
    "             '/home/murphylab/cellorganizer/models/3D/tub.mat']\n",
    "\n",
    "slml2img( filenames, options )"
   ]
  },
  {
   "cell_type": "code",
   "execution_count": null,
   "metadata": {},
   "outputs": [],
   "source": []
  }
 ],
 "metadata": {
  "kernelspec": {
   "display_name": "Python 3",
   "language": "python",
   "name": "python3"
  },
  "language_info": {
   "codemirror_mode": {
    "name": "ipython",
    "version": 3
   },
   "file_extension": ".py",
   "mimetype": "text/x-python",
   "name": "python",
   "nbconvert_exporter": "python",
   "pygments_lexer": "ipython3",
   "version": "3.6.8"
  }
 },
 "nbformat": 4,
 "nbformat_minor": 2
}
