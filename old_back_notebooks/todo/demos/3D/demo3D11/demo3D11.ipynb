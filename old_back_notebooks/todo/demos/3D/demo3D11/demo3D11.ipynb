{
 "cells": [
  {
   "cell_type": "markdown",
   "metadata": {},
   "source": [
    "# demo3D11"
   ]
  },
  {
   "cell_type": "markdown",
   "metadata": {},
   "source": [
    " Train 3D generative model of the cell framework (nucleus and cell shape) using the Murphy Lab 3D HeLa TfR dataset."
   ]
  },
  {
   "cell_type": "markdown",
   "metadata": {},
   "source": [
    "# Input"
   ]
  },
  {
   "cell_type": "markdown",
   "metadata": {},
   "source": [
    "* a directory of raw or synthetic nucleus images\n",
    "* a directory of raw or synthetic cell shape images\n",
    "* the resolution of the images (all images should have the same  resolution)"
   ]
  },
  {
   "cell_type": "markdown",
   "metadata": {},
   "source": [
    "# Output"
   ]
  },
  {
   "cell_type": "markdown",
   "metadata": {},
   "source": [
    "* a valid model"
   ]
  },
  {
   "cell_type": "code",
   "execution_count": 2,
   "metadata": {},
   "outputs": [],
   "source": [
    "from cellorganizer.tools import img2slml\n",
    "import glob\n",
    "import urllib.request\n",
    "import tarfile \n",
    "import datetime\n",
    "import os\n",
    "\n",
    "\n",
    "options = {}\n",
    "options['sampling.method'] = 'disc'\n",
    "options['debug'] = True\n",
    "options['verbose'] = True\n",
    "options['display'] = False\n",
    "options['temporary_results'] = os.getcwd() + 'temporary_results' \n",
    "options['downsampling'] = [5,5,1]\n",
    "\n",
    "\n",
    "options['model.name'] = '3d_hela_framework_model'\n",
    "options['model.id'] = str(datetime.datetime.now())\n",
    "\n",
    "options['nucleus.type'] = 'cylindrical_surface'\n",
    "options['nucleus.class'] = 'nuclear_membrane'\n",
    "options['nucleus.name'] = 'all'\n",
    "options['nucleus.id'] = str(datetime.datetime.now())\n",
    "\n",
    "options['cell.type'] = 'ratio'\n",
    "options['cell.class'] = 'cell_membrane'\n",
    "options['cell.model'] = 'framework'\n",
    "options['cell.id'] = str(datetime.datetime.now())\n",
    "\n",
    "options['model.resolution'] = [0.049, 0.049, 0.2000]\n",
    "dimensionality = '3D'\n",
    "options['train.flag'] = 'framework'\n",
    "\n",
    "directory = '../../../local/HeLa/3D/processed/'\n",
    "dnaImagesDirectoryPath,cellImagesDirectoryPath,proteinImagesDirectoryPath,options['masks']=[],[],[],[]\n",
    "for i in range(1,16):\n",
    "    dnaImagesDirectoryPath.append(directory+\"LAM_cell\"+str(i)+\"_ch0_t1.tif\" )\n",
    "    cellImagesDirectoryPath.append(directory+\"LAM_cell\"+str(i)+\"_ch1_t1.tif\")\n",
    "    proteinImagesDirectoryPath.append(directory+\"LAM_cell\"+str(i)+\"_ch2_t1.tif\")\n",
    "    options['masks'].append(directory+\"LAM_cell\"+str(i)+\"_mask_t1.tif\")\n",
    "\n",
    "\n",
    "img2slml( dimensionality, dnaImagesDirectoryPath, cellImagesDirectoryPath, [], options )"
   ]
  },
  {
   "cell_type": "code",
   "execution_count": null,
   "metadata": {},
   "outputs": [],
   "source": []
  }
 ],
 "metadata": {
  "kernelspec": {
   "display_name": "Python 3",
   "language": "python",
   "name": "python3"
  },
  "language_info": {
   "codemirror_mode": {
    "name": "ipython",
    "version": 3
   },
   "file_extension": ".py",
   "mimetype": "text/x-python",
   "name": "python",
   "nbconvert_exporter": "python",
   "pygments_lexer": "ipython3",
   "version": "3.6.8"
  }
 },
 "nbformat": 4,
 "nbformat_minor": 2
}
