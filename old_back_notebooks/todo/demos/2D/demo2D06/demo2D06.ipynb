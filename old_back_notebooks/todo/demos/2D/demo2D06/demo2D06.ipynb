{
 "cells": [
  {
   "cell_type": "markdown",
   "metadata": {},
   "source": [
    "# demo2D06"
   ]
  },
  {
   "cell_type": "markdown",
   "metadata": {},
   "source": [
    "Reconstruct one 2D image with nuclear, cell shape for PCA model"
   ]
  },
  {
   "cell_type": "markdown",
   "metadata": {},
   "source": [
    "# Input "
   ]
  },
  {
   "cell_type": "markdown",
   "metadata": {},
   "source": [
    "* a valid CellOrganizer model file"
   ]
  },
  {
   "cell_type": "markdown",
   "metadata": {},
   "source": [
    "# Output"
   ]
  },
  {
   "cell_type": "markdown",
   "metadata": {},
   "source": [
    "* one TIFF file with three slices (nuclear, cell shape, and lysosomal channels)"
   ]
  },
  {
   "cell_type": "code",
   "execution_count": null,
   "metadata": {},
   "outputs": [],
   "source": [
    "from cellorganizer.tools import slml2img\n",
    "\n",
    "options = {}\n",
    "options['numberOfSynthesizedImages'] = 1\n",
    "options['targetDirectory'] = 'pwd'\n",
    "options['compression '] = 'lzw'\n",
    "options['model.pca.pca_synthesis_method'] = 'reconstruction'\n",
    "options['model.pca.imageSize'] = [1024, 1024]\n",
    "options['prefix'] = 'img'\n",
    "options['debug'] = False\n",
    "options['verbose'] = True\n",
    "options['display'] = False\n",
    "options['model.name'] = 'demo2D06'\n",
    "\n",
    "filenames = ['/home/murphylab/cellorganizer/demos/2D/demo2D05/lamp2.mat']\n",
    "\n",
    "slml2img(filenames, options)"
   ]
  }
 ],
 "metadata": {
  "kernelspec": {
   "display_name": "Python 3",
   "language": "python",
   "name": "python3"
  },
  "language_info": {
   "codemirror_mode": {
    "name": "ipython",
    "version": 3
   },
   "file_extension": ".py",
   "mimetype": "text/x-python",
   "name": "python",
   "nbconvert_exporter": "python",
   "pygments_lexer": "ipython3",
   "version": "3.6.8"
  }
 },
 "nbformat": 4,
 "nbformat_minor": 2
}
