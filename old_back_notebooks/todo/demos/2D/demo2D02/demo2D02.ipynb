{
 "cells": [
  {
   "cell_type": "markdown",
   "metadata": {},
   "source": [
    "# demo2D02\n",
    "Synthesize one 2D image with nuclear, cell shape, and lysosomal channels from LAMP2 model trained in demo2D01 without convolution.\n",
    "\n",
    "## Input \n",
    "* a valid CellOrganizer model file\n",
    "\n",
    "## Output\n",
    "* one TIFF file with three slices (nuclear, cell shape, and lysosomal channels)\n"
   ]
  },
  {
   "cell_type": "code",
   "execution_count": null,
   "metadata": {},
   "outputs": [],
   "source": [
    "from cellorganizer.tools import slml2img\n",
    "\n",
    "options = {}\n",
    "options['numberOfSynthesizedImages'] = 1\n",
    "options['targetDirectory'] = 'pwd'\n",
    "options['compression '] = 'lzw'\n",
    "options['prefix'] = 'img'\n",
    "options['debug'] = False\n",
    "options['verbose'] = True\n",
    "options['display'] = False\n",
    "options['model.name'] = 'demo2D02'\n",
    "\n",
    "filenames = ['/home/murphylab/cellorganizer/demos/2D/demo2D01/lamp2.mat']\n",
    "\n",
    "slml2img(filenames, options)"
   ]
  }
 ],
 "metadata": {
  "kernelspec": {
   "display_name": "Python 3",
   "language": "python",
   "name": "python3"
  },
  "language_info": {
   "codemirror_mode": {
    "name": "ipython",
    "version": 3
   },
   "file_extension": ".py",
   "mimetype": "text/x-python",
   "name": "python",
   "nbconvert_exporter": "python",
   "pygments_lexer": "ipython3",
   "version": "3.7.1"
  }
 },
 "nbformat": 4,
 "nbformat_minor": 2
}
