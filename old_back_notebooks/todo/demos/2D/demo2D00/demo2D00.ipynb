{
 "cells": [
  {
   "cell_type": "markdown",
   "metadata": {},
   "source": [
    "# demo2D00\n",
    "\n",
    "Synthesize one 2D image with nuclear, cell shape, and vesicular channels from all vesicular object models (nucleoli, lysosomes, endosomes, and\n",
    "mitochondria) without convolution. The model was trained from the Murphy Lab 2D HeLa dataset.\n",
    "\n",
    "## Input\n",
    "* a list of valid CellOrganizer model files\n",
    "\n",
    "## Output\n",
    "* one TIFF file with six slices (nuclear, cell shape, nucleolar, lysosomal, endosomal, and mitochondrial channels)"
   ]
  },
  {
   "cell_type": "code",
   "execution_count": 1,
   "metadata": {},
   "outputs": [],
   "source": [
    "from cellorganizer.tools import slml2img\n",
    "from cellorganizer.tools import imshow\n",
    "import os\n",
    "\n",
    "os.system('wget --quiet -nc http://www.cellorganizer.org/model_repository/models/2D/endosome.mat')\n",
    "os.system('wget --quiet -nc http://www.cellorganizer.org/model_repository/models/2D/lysosome.mat')\n",
    "os.system('wget --quiet -nc http://www.cellorganizer.org/model_repository/models/2D/mitochondrion.mat')\n",
    "os.system('wget --quiet -nc http://www.cellorganizer.org/model_repository/models/2D/nucleolus.mat')\n",
    "\n",
    "\n",
    "filenames = [ 'nucleolus.mat',\n",
    "             'lysosome.mat', \n",
    "             'endosome.mat', \n",
    "             'mitochondrion.mat']\n",
    "options = {}\n",
    "options['targetDirectory'] = 'pwd'\n",
    "options['prefix'] = 'img'\n",
    "options['compression'] = 'lzw'\n",
    "options['debug'] = False\n",
    "options['verbose'] = True\n",
    "options['display'] = False\n",
    "options['numberOfSynthesizedImages'] = 1\n",
    "\n",
    "slml2img( filenames, options )\n",
    "imshow(\"img/cell1/cell1.tif\",{})"
   ]
  }
 ],
 "metadata": {
  "kernelspec": {
   "display_name": "Python 3",
   "language": "python",
   "name": "python3"
  },
  "language_info": {
   "codemirror_mode": {
    "name": "ipython",
    "version": 3
   },
   "file_extension": ".py",
   "mimetype": "text/x-python",
   "name": "python",
   "nbconvert_exporter": "python",
   "pygments_lexer": "ipython3",
   "version": "3.6.7"
  }
 },
 "nbformat": 4,
 "nbformat_minor": 2
}
