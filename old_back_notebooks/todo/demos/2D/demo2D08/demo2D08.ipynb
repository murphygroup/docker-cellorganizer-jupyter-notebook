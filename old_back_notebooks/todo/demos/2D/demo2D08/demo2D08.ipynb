{
 "cells": [
  {
   "cell_type": "markdown",
   "metadata": {},
   "source": [
    "# demo2D08\n",
    "Train 2D generative pca nuclear and cell shape model using the Murphy Lab 2D HeLa dataset and makes a shape space plot\n",
    "\n",
    "## Input \n",
    "* a directory of raw or synthetic nucleus images\n",
    "* a directory of raw or synthetic cell shape images\n",
    "* the resolution of the images (all images should have the same resolution)\n",
    "\n",
    "\n",
    "## Output\n",
    "* a valid SLML model file\n",
    "* a shape space plot\n",
    "\n"
   ]
  },
  {
   "cell_type": "code",
   "execution_count": 3,
   "metadata": {},
   "outputs": [],
   "source": [
    "from cellorganizer.tools import img2slml, slml2info\n",
    "import glob\n",
    "import urllib.request\n",
    "import tarfile \n",
    "import os\n",
    "\n",
    "options = {}\n",
    "options['verbose'] = True\n",
    "options['debug'] = False\n",
    "options['display'] = False\n",
    "options['model.name'] = 'demo2D08'\n",
    "options['train.flag'] = 'framework'\n",
    "options['nucleus.class'] = 'framework'\n",
    "options['nucleus.type'] = 'pca'\n",
    "options['cell.class '] = 'framework'\n",
    "options['cell.type'] = 'pca'\n",
    "dimensionality = '2D'\n",
    "\n",
    "directory = '/home/murphylab/cellorganizer/images/HeLa/2D/LAM/'\n",
    "\n",
    "dnaImagesDirectoryPath = glob.glob(directory+'orgdna/*.tif' )\n",
    "cellImagesDirectoryPath = glob.glob(directory +'orgcell/*.tif')\n",
    "options['masks'] = glob.glob(directory + 'crop/*.tif')\n",
    "options['model.resolution'] = [ 0.49, 0.49 ]\n",
    "options['model.filename'] = 'lamp2.xml'\n",
    "options['model.id'] = 'lamp2'\n",
    "options['documentation.description'] = 'This model has been trained using demo2D08 from CellOrganizer'\n",
    "\n",
    "img2slml(dimensionality, dnaImagesDirectoryPath, cellImagesDirectoryPath, [], options)\n",
    "\n",
    "slml2info({'lamp2.mat'}, {})"
   ]
  },
  {
   "cell_type": "code",
   "execution_count": null,
   "metadata": {},
   "outputs": [],
   "source": []
  }
 ],
 "metadata": {
  "kernelspec": {
   "display_name": "Python 3",
   "language": "python",
   "name": "python3"
  },
  "language_info": {
   "codemirror_mode": {
    "name": "ipython",
    "version": 3
   },
   "file_extension": ".py",
   "mimetype": "text/x-python",
   "name": "python",
   "nbconvert_exporter": "python",
   "pygments_lexer": "ipython3",
   "version": "3.6.8"
  }
 },
 "nbformat": 4,
 "nbformat_minor": 2
}
