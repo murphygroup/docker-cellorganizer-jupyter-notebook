{
 "cells": [
  {
   "cell_type": "markdown",
   "metadata": {},
   "source": [
    "# Create classic 3D framework\n",
    "This notebook can be used as a template to train 3D classic framework from a collection of 3D images.\n",
    "\n",
    "## Input \n",
    "* a directory of raw or synthetic nucleus images a directory of raw or synthetic cell shape images the resolution of the images (all images should have the same resolution)\n",
    "\n",
    "## Output\n",
    "* a valid model\n"
   ]
  },
  {
   "cell_type": "markdown",
   "metadata": {},
   "source": [
    "### FEEL FREE TO MODIFY THE BLOCK BELOW"
   ]
  },
  {
   "cell_type": "code",
   "execution_count": null,
   "metadata": {},
   "outputs": [],
   "source": [
    "from cellorganizer.tools import img2slml\n",
    "import datetime\n",
    "import glob\n",
    "\n",
    "# IMAGES DIRECTORY\n",
    "dnaImagesDirectoryPath = glob.glob('TfR*cell*ch0*.tif' )\n",
    "cellImagesDirectoryPath = glob.glob('TfR*cell*ch1*.tif' )\n",
    "options['masks'] = glob.glob('TfR*mask*.tif' )\n",
    "\n",
    "# MODEL RESOLUTION\n",
    "options = {}\n",
    "options['model.resolution'] = [0.049, 0.049, 0.2000]\n",
    "\n",
    "# DOWNSAMPLING VECTOR\n",
    "options['downsampling'] = [1,1,1]\n",
    "\n",
    "# GENERIC MODEL OPTIONS\n",
    "options['model.name'] = '3D classic framework model'\n",
    "\n",
    "# DOCUMENTATION\n",
    "options['documentation.author'] = 'CellOrganizer Team'\n",
    "options['documentation.email'] = 'cellorganizer@compbio.cmu.edu'\n",
    "options['documentation.website'] = 'http://www.cellorganizer.org'\n",
    "options['documentation.description'] = '3D classic framework model'"
   ]
  },
  {
   "cell_type": "markdown",
   "metadata": {},
   "source": [
    "### DO NOT MODIFY THE BLOCK BELOW"
   ]
  },
  {
   "cell_type": "code",
   "execution_count": null,
   "metadata": {},
   "outputs": [],
   "source": [
    "import urllib.request\n",
    "import tarfile \n",
    "import os\n",
    "    \n",
    "proteinImagesDirectoryPath = []\n",
    "options['debug'] = True\n",
    "options['verbose'] = True\n",
    "options['display'] = False\n",
    "options['temporary_results'] = \"pwd filesep 'temporary_results'\"\n",
    "options['train.flag'] = 'framework'\n",
    "options['model.filename'] = 'model.xml'\n",
    "\n",
    "# nuclear shape model options\n",
    "options['nucleus.type'] = 'cylindrical_surface'\n",
    "options['nucleus.class'] = 'nuclear_membrane'\n",
    "options['nucleus.name'] = 'all'\n",
    "\n",
    "# cell shape model options\n",
    "options['cell.type'] = 'ratio'\n",
    "options['cell.class'] = 'cell_membrane'   \n",
    "options['cell.model'] = 'framework'\n",
    "\n",
    "dimensionality = '3D'\n",
    "pattern = 'framework'\n",
    "\n",
    "img2slml(dimensionality, dnaImagesDirectoryPath, cellImagesDirectoryPath, proteinImagesDirectoryPath, options)"
   ]
  }
 ],
 "metadata": {
  "kernelspec": {
   "display_name": "Python 3",
   "language": "python",
   "name": "python3"
  },
  "language_info": {
   "codemirror_mode": {
    "name": "ipython",
    "version": 3
   },
   "file_extension": ".py",
   "mimetype": "text/x-python",
   "name": "python",
   "nbconvert_exporter": "python",
   "pygments_lexer": "ipython3",
   "version": "3.7.2"
  }
 },
 "nbformat": 4,
 "nbformat_minor": 2
}
