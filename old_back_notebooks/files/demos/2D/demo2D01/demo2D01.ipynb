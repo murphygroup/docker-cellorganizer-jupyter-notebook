{
 "cells": [
  {
   "cell_type": "markdown",
   "metadata": {},
   "source": [
    "# demo2D01\n",
    "Train 2D generative model of the nucleus, cell shape, and lysosome using all LAMP2 images in the Murphy Lab 2D HeLa dataset.\n",
    "\n",
    "## Input\n",
    "* a directory of raw or synthetic nucleus images\n",
    "* a directory of raw or synthetic cell shape images\n",
    "* a directory of raw or synthetic lysosome images\n",
    "* the resolution of the images (all images should have the same resolution)\n",
    "\n",
    "## Output\n",
    "* a valid SLML model file"
   ]
  },
  {
   "cell_type": "code",
   "execution_count": null,
   "metadata": {},
   "outputs": [],
   "source": [
    "from cellorganizer.tools import img2slml\n",
    "import glob\n",
    "import urllib.request\n",
    "import tarfile \n",
    "import os\n",
    "\n",
    "if not os.path.exists('../../../images/HeLa/2D/LAM/'):\n",
    "    os.makedirs('../../../images/HeLa/2D/LAM/')\n",
    "    urllib.request.urlretrieve('http://www.cellorganizer.org/Downloads/v2.8.0/docker/images/demo2D01.tgz', 'demo2D01.tgz')\n",
    "    tar = tarfile.open(name='demo2D01.tgz', mode=\"r:gz\")\n",
    "    tar.extractall(path=\"../../../images/HeLa/2D/LAM/\", members=None, numeric_owner=False)\n",
    "    os.system('rm demo2D01.tgz')\n",
    "\n",
    "options = {}\n",
    "options['verbose'] = True\n",
    "options['debug'] = False\n",
    "options['display'] = False\n",
    "options['model.name'] = 'demo2D01'\n",
    "options['train.flag'] = 'all'\n",
    "options['nucleus.class'] = 'nuclear_membrane'\n",
    "options['nucleus.type'] = 'medial_axis'\n",
    "options['cell.class '] = 'cell_membrane'\n",
    "options['cell.type'] = 'ratio'\n",
    "options['protein.class'] = 'vesicle'\n",
    "options['protein.type'] = 'gmm'\n",
    "dimensionality = '2D'\n",
    "\n",
    "directory = '/home/murphylab/cellorganizer/images/HeLa/2D/LAM/'\n",
    "\n",
    "dnaImagesDirectoryPath = glob.glob(directory+'orgdna/*.tif' )\n",
    "cellImagesDirectoryPath = glob.glob(directory +'orgcell/*.tif')\n",
    "proteinImagesDirectoryPath = glob.glob(directory +'orgprot/*.tif')\n",
    "options['masks'] = glob.glob(directory + 'crop/*.tif')\n",
    "options['model.resolution'] = [ 0.49, 0.49 ]\n",
    "options['model.filename'] = 'lamp2.xml'\n",
    "options['model.id'] = 'lamp2'\n",
    "options['documentation.description'] = 'This model has been trained using demo2D01 from CellOrganizer'\n",
    "\n",
    "img2slml(dimensionality, dnaImagesDirectoryPath, cellImagesDirectoryPath, proteinImagesDirectoryPath, options)"
   ]
  }
 ],
 "metadata": {
  "kernelspec": {
   "display_name": "Python 3",
   "language": "python",
   "name": "python3"
  },
  "language_info": {
   "codemirror_mode": {
    "name": "ipython",
    "version": 3
   },
   "file_extension": ".py",
   "mimetype": "text/x-python",
   "name": "python",
   "nbconvert_exporter": "python",
   "pygments_lexer": "ipython3",
   "version": "3.7.1"
  }
 },
 "nbformat": 4,
 "nbformat_minor": 2
}
