{
 "cells": [
  {
   "cell_type": "markdown",
   "metadata": {},
   "source": [
    "# demo2D04\n",
    "Train 2D generative diffeomorphic nuclear and cell shape model and a lysosomal model using 10 LAMP2 images in the Murphy Lab 2D HeLa dataset.\n",
    "\n",
    "## Input\n",
    "* a directory of raw or synthetic nucleus images\n",
    "* a directory of raw or synthetic cell shape images\n",
    "* a directory of raw or synthetic lysosome images\n",
    "* the resolution of the images (all images should have the same resolution)\n",
    "\n",
    "## Output\n",
    "* a valid SLML model file"
   ]
  },
  {
   "cell_type": "code",
   "execution_count": 2,
   "metadata": {},
   "outputs": [],
   "source": [
    "from cellorganizer.tools import img2slml\n",
    "import glob\n",
    "import urllib.request\n",
    "import tarfile \n",
    "import os\n",
    "\n",
    "if not os.path.exists('../../../images/HeLa/2D/LAM/'):\n",
    "    os.makedirs('../../../images/HeLa/2D/LAM/')\n",
    "    urllib.request.urlretrieve('http://www.cellorganizer.org/Downloads/v2.8/docker/v2.8.0/images/demo2D04.tgz', 'demo2D04.tgz')\n",
    "    tar = tarfile.open(name='demo2D04.tgz', mode=\"r:gz\")\n",
    "    tar.extractall(path=\"../../../images/HeLa/2D/LAM/\", members=None, numeric_owner=False)\n",
    "    os.system('rm demo2D04.tgz')\n",
    "\n",
    "options = {}\n",
    "options['verbose'] = True\n",
    "options['debug'] = False\n",
    "options['display'] = False\n",
    "options['model.name'] = 'demo2D04'\n",
    "options['train.flag'] = 'framework'\n",
    "options['nucleus.class'] = 'framework'\n",
    "options['nucleus.type'] = 'diffeomorphic'\n",
    "options['cell.class '] = 'framework'\n",
    "options['cell.type'] = 'diffeomorphic'\n",
    "options['protein.class'] = 'vesicle'\n",
    "options['protein.tyte'] = 'gmm'\n",
    "options['model.diffeomorphic.distance_computing_method'] = 'faster'\n",
    "\n",
    "directory = '/home/murphylab/cellorganizer/images/HeLa/2D/LAM/'\n",
    "\n",
    "dnaImagesDirectoryPath = [directory + 'orgdna/cell' + str(i)+\".tif\" for i in range(1,11)]\n",
    "cellImagesDirectoryPath = [directory + 'orgcell/cell' + str(i)+\".tif\" for i in range(1,11)]\n",
    "proteinImagesDirectoryPath = [directory + 'orgprot/cell' + str(i)+\".tif\" for i in range(1,11)]\n",
    "options['masks'] = [directory + 'crop/cell' + str(i)+\".tif\" for i in range(1,10)]\n",
    "\n",
    "options['model.resolution'] = [ 0.049, 0.049 ]\n",
    "options['model.filename'] = 'lamp2.xml'\n",
    "options['model.id'] = 'lamp2'\n",
    "options['model.name'] = 'lamp2'\n",
    "\n",
    "options['nucleus.name'] = 'LAMP2'\n",
    "options['cell.model'] = 'LAMP2'\n",
    "\n",
    "dimensionality = '2D'\n",
    "\n",
    "options['documentation.description'] = 'This model has been trained using demo2D04 from CellOrganizer'\n",
    "options['downsampling'] = [5,5]\n",
    "\n",
    "options['model.diffeomorphic.com_align']= 'nuc'\n",
    "\n",
    "img2slml(dimensionality, dnaImagesDirectoryPath, cellImagesDirectoryPath, proteinImagesDirectoryPath, options)"
   ]
  }
 ],
 "metadata": {
  "kernelspec": {
   "display_name": "Python 3",
   "language": "python",
   "name": "python3"
  },
  "language_info": {
   "codemirror_mode": {
    "name": "ipython",
    "version": 3
   },
   "file_extension": ".py",
   "mimetype": "text/x-python",
   "name": "python",
   "nbconvert_exporter": "python",
   "pygments_lexer": "ipython3",
   "version": "3.7.1"
  }
 },
 "nbformat": 4,
 "nbformat_minor": 2
}
