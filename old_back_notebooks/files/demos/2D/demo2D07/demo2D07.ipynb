{
 "cells": [
  {
   "cell_type": "markdown",
   "metadata": {},
   "source": [
    "# demo2D07\n",
    "Synthesize one 2D image with nuclear, cell shape with PCA model\n",
    "\n",
    "## Input \n",
    "* a valid CellOrganizer model file\n",
    "\n",
    "## Output\n",
    "* one TIFF file with three slices (nuclear, cell shape, and lysosomal channels)\n",
    "\n",
    "\n"
   ]
  },
  {
   "cell_type": "code",
   "execution_count": 1,
   "metadata": {},
   "outputs": [],
   "source": [
    "from cellorganizer.tools import slml2img\n",
    "\n",
    "options = {}\n",
    "options['numberOfSynthesizedImages'] = 1\n",
    "options['targetDirectory'] = 'pwd'\n",
    "options['compression '] = 'lzw'\n",
    "options['model.pca.pca_synthesis_method'] = 'random_sampling'\n",
    "options['model.pca.imageSize'] = [1024, 1024]\n",
    "options['prefix'] = 'img'\n",
    "options['debug'] = False\n",
    "options['verbose'] = True\n",
    "options['display'] = False\n",
    "options['model.name'] = 'demo2D07'\n",
    "\n",
    "filenames = ['../demo2D05/lamp2.mat']\n",
    "\n",
    "slml2img(filenames, options)"
   ]
  }
 ],
 "metadata": {
  "kernelspec": {
   "display_name": "Python 3",
   "language": "python",
   "name": "python3"
  },
  "language_info": {
   "codemirror_mode": {
    "name": "ipython",
    "version": 3
   },
   "file_extension": ".py",
   "mimetype": "text/x-python",
   "name": "python",
   "nbconvert_exporter": "python",
   "pygments_lexer": "ipython3",
   "version": "3.6.8"
  }
 },
 "nbformat": 4,
 "nbformat_minor": 2
}
