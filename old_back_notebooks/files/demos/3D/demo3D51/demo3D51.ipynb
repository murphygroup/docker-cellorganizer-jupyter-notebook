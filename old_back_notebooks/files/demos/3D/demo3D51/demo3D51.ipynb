{
 "cells": [
  {
   "cell_type": "markdown",
   "metadata": {},
   "source": [
    "# demo3D51"
   ]
  },
  {
   "cell_type": "markdown",
   "metadata": {},
   "source": [
    "Show shape evolution plot with a trained SPHARM-RPDM model with only cell shape"
   ]
  },
  {
   "cell_type": "markdown",
   "metadata": {},
   "source": [
    "# Input"
   ]
  },
  {
   "cell_type": "markdown",
   "metadata": {},
   "source": [
    "* a directory of raw or synthetic nucleus images\n",
    "* a directory of raw or synthetic cell shape images\n",
    "* the resolution of the images (all images should have the same\n",
    "  resolution)"
   ]
  },
  {
   "cell_type": "markdown",
   "metadata": {},
   "source": [
    "# Output"
   ]
  },
  {
   "cell_type": "markdown",
   "metadata": {},
   "source": [
    "* a valid SLML model file\n",
    "* a shape space plot"
   ]
  },
  {
   "cell_type": "code",
   "execution_count": 6,
   "metadata": {},
   "outputs": [],
   "source": [
    "from cellorganizer.tools import img2slml\n",
    "import glob\n",
    "import urllib.request\n",
    "import tarfile \n",
    "import os\n",
    "\n",
    "if not os.path.exists('../../../images/HeLa/3D/processed'):\n",
    "    os.makedirs('../../../images/HeLa/3D/processed')\n",
    "    urllib.request.urlretrieve('http://www.cellorganizer.org/Downloads/v2.8/docker/v2.8.0/images/demo3D51.tgz', 'demo3D51.tgz')\n",
    "    tar = tarfile.open(name='demo3D51.tgz', mode=\"r:gz\")\n",
    "    tar.extractall(path='../../../images/HeLa/3D/processed', members=None, numeric_owner=False)\n",
    "    os.system('rm demo3D51.tgz')\n",
    "\n",
    "\n",
    "options = {}\n",
    "options['verbose'] = True\n",
    "options['debug'] = True\n",
    "options['display'] = False\n",
    "options['model.name'] = 'demo3D51'\n",
    "options['train.flag'] = 'cell'\n",
    "options['cell.class'] = 'cell_membrane'\n",
    "options['cell.type'] = 'spharm_rpdm'\n",
    "\n",
    "# postprocess of parameterization: alignment\n",
    "options['model.spharm_rpdm.postprocess'] = True\n",
    "# degree of the descriptor\n",
    "options['model.spharm_rpdm.maxDeg'] = 31\n",
    "# cellular components: either {'cell'}, {'nuc'}, or {'cell', 'nuc'}\n",
    "options['model.spharm_rpdm.components'] = ['cell']\n",
    "\n",
    "# latent dimension for the model\n",
    "options['model.spharm_rpdm.latent_dim'] = 15\n",
    "\n",
    "\n",
    "# the following list of parameters are adapted to the LAMP3 image\n",
    "# collection, modify these according to your needs\n",
    "\n",
    "directory = '/home/murphylab/cellorganizer/images/HeLa/3D/processed/'\n",
    "dnaImagesDirectoryPath = [directory + 'LAM_cell1_ch0_t1.tif',directory + 'LAM_cell2_ch0_t1.tif', directory + 'LAM_cell3_ch0_t1.tif', directory + 'LAM_cell4_ch0_t1.tif', directory + 'LAM_cell5_ch0_t1.tif', directory + 'LAM_cell6_ch0_t1.tif', directory + 'LAM_cell7_ch0_t1.tif', directory + 'LAM_cell8_ch0_t1.tif', directory + 'LAM_cell9_ch0_t1.tif']\n",
    "cellImagesDirectoryPath = [directory + 'LAM_cell1_ch1_t1.tif', directory + 'LAM_cell2_ch1_t1.tif', directory + 'LAM_cell3_ch1_t1.tif', directory + 'LAM_cell4_ch1_t1.tif', directory + 'LAM_cell5_ch1_t1.tif', directory + 'LAM_cell6_ch1_t1.tif', directory + 'LAM_cell7_ch1_t1.tif', directory + 'LAM_cell8_ch1_t1.tif', directory + 'LAM_cell9_ch1_t1.tif']\n",
    "proteinImagesDirectoryPath = []\n",
    "\n",
    "options['masks'] = [directory + 'LAM_cell1_mask_t1.tif', directory + 'LAM_cell2_mask_t1.tif', directory + 'LAM_cell3_mask_t1.tif', directory + 'LAM_cell4_mask_t1.tif', directory + 'LAM_cell5_mask_t1.tif', directory + 'LAM_cell6_mask_t1.tif', directory + 'LAM_cell7_mask_t1.tif', directory + 'LAM_cell8_mask_t1.tif', directory + 'LAM_cell9_mask_t1.tif']\n",
    "\n",
    "\n",
    "\n",
    "options['model.resolution'] = [0.049, 0.049, 0.2000]\n",
    "options['downsampling'] = [5, 5, 1]\n",
    "options['model.filename'] = 'lamp2.xml'\n",
    "options['model.id'] = 'lamp2'\n",
    "options['model.name'] = 'lamp2'\n",
    "options['nucleus.name'] = 'LAMP2'\n",
    "options['cell.model'] = 'LAMP2'\n",
    "dimensionality = '3D'\n",
    "options['documentation.description'] = 'This model has been trained using demo3D51 from CellOrganizer'\n",
    "options['model.spharm_rpdm.segminnucfraction'] = 0.1\n",
    "\n",
    "img2slml(dimensionality, dnaImagesDirectoryPath, cellImagesDirectoryPath, proteinImagesDirectoryPath, options)"
   ]
  }
 ],
 "metadata": {
  "kernelspec": {
   "display_name": "Python 3",
   "language": "python",
   "name": "python3"
  },
  "language_info": {
   "codemirror_mode": {
    "name": "ipython",
    "version": 3
   },
   "file_extension": ".py",
   "mimetype": "text/x-python",
   "name": "python",
   "nbconvert_exporter": "python",
   "pygments_lexer": "ipython3",
   "version": "3.6.8"
  }
 },
 "nbformat": 4,
 "nbformat_minor": 2
}
