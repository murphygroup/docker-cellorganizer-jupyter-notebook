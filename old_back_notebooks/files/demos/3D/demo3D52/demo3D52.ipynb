{
 "cells": [
  {
   "cell_type": "markdown",
   "metadata": {},
   "source": [
    "# demo3D52\n",
    "Train 3D generative SPHARM-RPDM nuclear and cell shape model using the \n",
    "Murphy Lab 3D HeLa dataset.\n",
    "\n",
    "\n",
    "## Input \n",
    "* a directory of raw or synthetic nucleus images\n",
    "* a directory of raw or synthetic cell shape images\n",
    "* the resolution of the images (all images should have the same\n",
    "  resolution)\n",
    "\n",
    "\n",
    "## Output\n",
    "* a valid model"
   ]
  },
  {
   "cell_type": "code",
   "execution_count": 3,
   "metadata": {},
   "outputs": [],
   "source": [
    "from cellorganizer.tools import img2slml\n",
    "import glob\n",
    "import urllib.request\n",
    "import tarfile \n",
    "import os\n",
    "\n",
    "options = {}\n",
    "options['verbose'] = True\n",
    "options['debug'] = True\n",
    "options['display'] = False\n",
    "options['model.name'] = 'demo3D52'\n",
    "options['train.flag'] = 'framework'\n",
    "options['cell.class'] = 'cell_membrane'\n",
    "options['cell.type'] = 'spharm_rpdm'\n",
    "options['nucleus.class'] = 'nuclear_membrane'\n",
    "options['nucleus.type'] = 'spharm_rpdm'\n",
    "\n",
    "# postprocess of parameterization: alignment\n",
    "options['model.spharm_rpdm.postprocess'] = True\n",
    "# degree of the descriptor\n",
    "options['model.spharm_rpdm.maxDeg'] = 31\n",
    "# cellular components: either {'cell'}, {'nuc'}, or {'cell', 'nuc'}\n",
    "options['model.spharm_rpdm.components'] = ['cell','nuc']\n",
    "\n",
    "# latent dimension for the model\n",
    "options['model.spharm_rpdm.latent_dim'] = 15\n",
    "\n",
    "\n",
    "# the following list of parameters are adapted to the LAMP3 image\n",
    "# collection, modify these according to your needs\n",
    "\n",
    "directory = '/home/murphylab/cellorganizer/images/HeLa/3D/processed/'\n",
    "dnaImagesDirectoryPath = [directory + 'LAM_cell1_ch0_t1.tif',directory + 'LAM_cell2_ch0_t1.tif', directory + 'LAM_cell3_ch0_t1.tif', directory + 'LAM_cell4_ch0_t1.tif', directory + 'LAM_cell5_ch0_t1.tif', directory + 'LAM_cell6_ch0_t1.tif', directory + 'LAM_cell7_ch0_t1.tif', directory + 'LAM_cell8_ch0_t1.tif', directory + 'LAM_cell9_ch0_t1.tif']\n",
    "cellImagesDirectoryPath = [directory + 'LAM_cell1_ch1_t1.tif', directory + 'LAM_cell2_ch1_t1.tif', directory + 'LAM_cell3_ch1_t1.tif', directory + 'LAM_cell4_ch1_t1.tif', directory + 'LAM_cell5_ch1_t1.tif', directory + 'LAM_cell6_ch1_t1.tif', directory + 'LAM_cell7_ch1_t1.tif', directory + 'LAM_cell8_ch1_t1.tif', directory + 'LAM_cell9_ch1_t1.tif']\n",
    "proteinImagesDirectoryPath = []\n",
    "\n",
    "options['masks'] = [directory + 'LAM_cell1_mask_t1.tif', directory + 'LAM_cell2_mask_t1.tif', directory + 'LAM_cell3_mask_t1.tif', directory + 'LAM_cell4_mask_t1.tif', directory + 'LAM_cell5_mask_t1.tif', directory + 'LAM_cell6_mask_t1.tif', directory + 'LAM_cell7_mask_t1.tif', directory + 'LAM_cell8_mask_t1.tif', directory + 'LAM_cell9_mask_t1.tif']\n",
    "\n",
    "\n",
    "\n",
    "options['model.resolution'] = [0.049, 0.049, 0.2000]\n",
    "options['downsampling'] = [5, 5, 1]\n",
    "options['model.filename'] = 'lamp2.xml'\n",
    "options['model.id'] = 'lamp2'\n",
    "options['model.name'] = 'lamp2'\n",
    "options['nucleus.name'] = 'LAMP2'\n",
    "options['cell.model'] = 'LAMP2'\n",
    "dimensionality = '3D'\n",
    "options['documentation.description'] = 'This model has been trained using demo3D52 from CellOrganizer'\n",
    "options['model.spharm_rpdm.segminnucfraction'] = 0.1\n",
    "\n",
    "img2slml(dimensionality, dnaImagesDirectoryPath, cellImagesDirectoryPath, proteinImagesDirectoryPath, options)"
   ]
  },
  {
   "cell_type": "code",
   "execution_count": null,
   "metadata": {},
   "outputs": [],
   "source": []
  }
 ],
 "metadata": {
  "kernelspec": {
   "display_name": "Python 3",
   "language": "python",
   "name": "python3"
  },
  "language_info": {
   "codemirror_mode": {
    "name": "ipython",
    "version": 3
   },
   "file_extension": ".py",
   "mimetype": "text/x-python",
   "name": "python",
   "nbconvert_exporter": "python",
   "pygments_lexer": "ipython3",
   "version": "3.6.8"
  }
 },
 "nbformat": 4,
 "nbformat_minor": 2
}
