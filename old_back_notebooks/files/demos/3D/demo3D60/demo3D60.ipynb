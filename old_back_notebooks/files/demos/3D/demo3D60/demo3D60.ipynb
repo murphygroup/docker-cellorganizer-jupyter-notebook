{
 "cells": [
  {
   "cell_type": "code",
   "execution_count": 1,
   "metadata": {},
   "outputs": [],
   "source": [
    "from cellorganizer.tools import slml2slml, slml2img\n",
    "import os\n",
    "\n",
    "framework_model = '../../../models/3D/lamp2.mat'\n",
    "vesicle_model   = '../../../models/3D/tfr.mat'\n",
    "options_comb = {}\n",
    "options_comb['output_filename'] = 'combined_model.mat'\n",
    "options_comb['selection']       = '[1,1,0;0,0,1]'\n",
    "slml2slml([framework_model,vesicle_model], options_comb)\n",
    "\n",
    "options = {}\n",
    "#General Options\n",
    "options['seed'] = 639848 \n",
    "options['targetDirectory'] = 'pwd'\n",
    "options['prefix'] = 'img' \n",
    "options['synthesis'] = 'all' \n",
    "options['compression'] = 'lzw' \n",
    "options['microscope'] = 'none' \n",
    "options['sampling.method'] = 'disc' \n",
    "options['verbose'] = True \n",
    "options['debug'] = False \n",
    "options['output.tifimages'] = True \n",
    "options['output.indexedimage'] = True \n",
    "\n",
    "#SPHARM-RPDM Options\n",
    "options['model.spharm_rpdm.synthesis_method'] = 'random_sampling' \n",
    "options['model.spharm_rpdm.imageSize'] = [512, 512, 36] \n",
    "options['model.spharm_rpdm.synthesis_resolution'] = [0.10,0.10,0.1] \n",
    "\n",
    "#Protein Submodel Sampling Options\n",
    "options['numberOfSynthesizedImages'] = 1 \n",
    "options['numberOfGaussianObjects'] = 5 \n",
    "options['rendAtStd'] = 2.0 \n",
    "options['objstd'] = options['rendAtStd']+0.3 \n",
    "options['overlapsubsize'] = 1 \n",
    "options['overlapthresh'] = 0 \n",
    "\n",
    "#VCML Options\n",
    "options['output.VCML'] = True \n",
    "options['VCML.downsampling'] = 1 \n",
    "options['VCML.numSimulations'] = 1 \n",
    "options['VCML.addTranslocationIntermediates'] = False \n",
    "options['VCML.endTime'] = 0.5 \n",
    "options['VCML.outputTimeStep'] = options['VCML.endTime'] / 100 \n",
    "options['VCML.defaultTimeStep'] = options['VCML.outputTimeStep'] / 10 \n",
    "options['VCML.minTimeStep'] = 0.0 \n",
    "options['VCML.maxTimeStep'] = options['VCML.outputTimeStep'] / 2\n",
    "options['VCML.translations'] = \"{'cell', 'CP'; 'nucleus', 'NU';  '3D_HeLa_LAMP2_SPHARM_vesicle_model_mat_Nuc_mat', 'EN'; 'CP_EC', 'PM'; 'CP_EN', 'EM'; 'CP_NU', 'NM'}\"\n",
    "\n",
    "#BioNet Options\n",
    "filename = 'journal.pcbi.1004611.s003_volareaadjust.net'\n",
    "options['NET.filename'] = filename\n",
    "options['NET.units.length'] = 'um'\n",
    "options['NET.units.concentration'] = 'M'\n",
    "        \n",
    "slml2img({'combined_model.mat'}, options)"
   ]
  },
  {
   "cell_type": "code",
   "execution_count": null,
   "metadata": {},
   "outputs": [],
   "source": []
  }
 ],
 "metadata": {
  "kernelspec": {
   "display_name": "Python 3",
   "language": "python",
   "name": "python3"
  },
  "language_info": {
   "codemirror_mode": {
    "name": "ipython",
    "version": 3
   },
   "file_extension": ".py",
   "mimetype": "text/x-python",
   "name": "python",
   "nbconvert_exporter": "python",
   "pygments_lexer": "ipython3",
   "version": "3.7.3"
  }
 },
 "nbformat": 4,
 "nbformat_minor": 2
}
