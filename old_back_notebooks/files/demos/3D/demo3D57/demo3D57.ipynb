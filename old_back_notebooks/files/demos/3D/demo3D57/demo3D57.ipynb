{
 "cells": [
  {
   "cell_type": "markdown",
   "metadata": {},
   "source": [
    "# demo3D57\n",
    "Show enrichment plot with a trained T- Cell model\n",
    "\n",
    "## Input\n",
    "* a valid tcell SLML model file\n",
    "\n",
    "## Output\n",
    "* enirchment plot"
   ]
  },
  {
   "cell_type": "code",
   "execution_count": 1,
   "metadata": {},
   "outputs": [],
   "source": [
    "from cellorganizer.tools import slml2info\n",
    "from cellorganizer.tools import imshow\n",
    "import os \n",
    "\n",
    "options = {}\n",
    "directory = '../demo3D48/models'\n",
    "if not os.path.isdir(directory):\n",
    "    print(\"Run demo 3D48 first and generate models!\")\n",
    "else:\n",
    "    slml2info({'../demo3D48/models/LAT_reltime_0.mat','../demo3D48/models/LAT_reltime_1.mat'},options)\n"
   ]
  },
  {
   "cell_type": "code",
   "execution_count": null,
   "metadata": {},
   "outputs": [],
   "source": []
  }
 ],
 "metadata": {
  "kernelspec": {
   "display_name": "Python 3",
   "language": "python",
   "name": "python3"
  },
  "language_info": {
   "codemirror_mode": {
    "name": "ipython",
    "version": 3
   },
   "file_extension": ".py",
   "mimetype": "text/x-python",
   "name": "python",
   "nbconvert_exporter": "python",
   "pygments_lexer": "ipython3",
   "version": "3.6.8"
  }
 },
 "nbformat": 4,
 "nbformat_minor": 2
}
