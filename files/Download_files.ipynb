{
 "cells": [
  {
   "cell_type": "markdown",
   "metadata": {},
   "source": [
    "# Download files from the CellOrganizer site\n",
    "Run this notebook to download files associated with this CellOrganizer release.\n",
    "\n",
    "Here are a quick guide for using various nethods from cellorganizer\n",
    "\n",
    "<ul>\n",
    "  <li>img2slml, the top-level function to train generative models of cells</li>\n",
    "  <li>slml2img, the top-level function to generate simulated instances from a trained generative model.</li>\n",
    "  <li>slml2report, the top-level function to generate a report from comparing generative models.\n",
    "</li>\n",
    "</ul>\n",
    "\n",
    "#### img2slml( dimensionality, dnaImagesDirectoryPath, cellImagesDirectoryPath,protienImagesDirectoryPath , options)\n",
    "\n",
    "#### slml2info([model file],options)\n",
    "\n",
    "#### slml2report(model_file1 , model_file2, options)\n",
    "\n",
    "#### slml2img([model file], options)\n",
    "\n",
    "All files require full qualified path for them.\n",
    "options are model or method specific dictionary, refer to given demos to understand how they work.\n",
    "\n",
    "Refer the http://www.cellorganizer.org/ website for more details."
   ]
  },
  {
   "cell_type": "code",
   "execution_count": null,
   "metadata": {},
   "outputs": [],
   "source": [
    "#download models\n",
    "from cellorganizer.tools import get_model_files\n",
    "get_model_files()\n",
    "\n",
    "#download notebooks\n",
    "from cellorganizer.tools import download_latest_notebooks\n",
    "download_latest_notebooks()\n",
    "\n",
    "# download images\n",
    "from cellorganizer.tools import get_image_collection\n",
    "get_image_collection()"
   ]
  },
  {
   "cell_type": "code",
   "execution_count": null,
   "metadata": {},
   "outputs": [],
   "source": []
  }
 ],
 "metadata": {
  "kernelspec": {
   "display_name": "Python 3",
   "language": "python",
   "name": "python3"
  },
  "language_info": {
   "codemirror_mode": {
    "name": "ipython",
    "version": 3
   },
   "file_extension": ".py",
   "mimetype": "text/x-python",
   "name": "python",
   "nbconvert_exporter": "python",
   "pygments_lexer": "ipython3",
   "version": "3.7.6"
  }
 },
 "nbformat": 4,
 "nbformat_minor": 2
}