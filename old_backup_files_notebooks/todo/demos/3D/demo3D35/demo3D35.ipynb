{
 "cells": [
  {
   "cell_type": "markdown",
   "metadata": {},
   "source": [
    "# demo3D35\n",
    "Displays information about a diffeomorphic model\n",
    "\n",
    "\n",
    "## Input \n",
    "* valid model\n",
    "\n",
    "## Output\n",
    "* details about the models"
   ]
  },
  {
   "cell_type": "code",
   "execution_count": 3,
   "metadata": {},
   "outputs": [],
   "source": [
    "from cellorganizer.tools import slml2info\n",
    "import os\n",
    "\n",
    "options = {}\n",
    "if not os.path.exists('../../../models/3D/diffeomorphic/helamodel_9_16_15.mat'):\n",
    "    os.system('wget -nc --quiet http://www.cellorganizer.org/model_repository/models/3D/diffeomorphic/helamodel_9_16_15.mat')\n",
    "    file = 'helamodel_9_16_15.mat'\n",
    "else:\n",
    "    file = '../../../models/3D/diffeomorphic/helamodel_9_16_15.mat'\n",
    "\n",
    "answer = slml2info({file},options)"
   ]
  },
  {
   "cell_type": "code",
   "execution_count": null,
   "metadata": {},
   "outputs": [],
   "source": []
  }
 ],
 "metadata": {
  "kernelspec": {
   "display_name": "Python 3",
   "language": "python",
   "name": "python3"
  },
  "language_info": {
   "codemirror_mode": {
    "name": "ipython",
    "version": 3
   },
   "file_extension": ".py",
   "mimetype": "text/x-python",
   "name": "python",
   "nbconvert_exporter": "python",
   "pygments_lexer": "ipython3",
   "version": "3.6.8"
  }
 },
 "nbformat": 4,
 "nbformat_minor": 2
}
