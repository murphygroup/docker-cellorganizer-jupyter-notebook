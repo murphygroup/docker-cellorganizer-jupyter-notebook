{
 "cells": [
  {
   "cell_type": "markdown",
   "metadata": {},
   "source": [
    "# demo3D17"
   ]
  },
  {
   "cell_type": "markdown",
   "metadata": {},
   "source": [
    "The main idea behind this demo is to show the user they\n",
    "can use their own binary images from raw experimental data \n",
    "to synthesize protein patterns. \n",
    " \n",
    "The current demo assumes the resolution of the images is the same \n",
    "as the resolution of the images that were used to train the protein model."
   ]
  },
  {
   "cell_type": "markdown",
   "metadata": {},
   "source": [
    "# Input"
   ]
  },
  {
   "cell_type": "markdown",
   "metadata": {},
   "source": [
    "* an existing raw or synthetic framework, i.e. one binary multi-TIFF file of the nuclear channel and one binary multi-TIFF file of the cell membrane\n",
    "* the resolution of the latter images\n",
    "* a valid CellOrganizer model that contains a protein model"
   ]
  },
  {
   "cell_type": "markdown",
   "metadata": {},
   "source": [
    "# Output"
   ]
  },
  {
   "cell_type": "markdown",
   "metadata": {},
   "source": [
    "* three TIFF files (cell shape, nuclear, and lysosomal channels)"
   ]
  },
  {
   "cell_type": "code",
   "execution_count": null,
   "metadata": {},
   "outputs": [],
   "source": [
    "from cellorganizer.tools import slml2img\n",
    "\n",
    "\n",
    "param = {}\n",
    "param['targetDirectory'] = 'pwd'\n",
    "param['prefix'] = 'img'\n",
    "param['numberOfSynthesizedImages'] = 1\n",
    "param['output.tifimages'] = True\n",
    "param['compression'] = 'lzw'\n",
    "param['microscope'] = 'none'\n",
    "param['sampling.method'] = 'disc'\n",
    "param['instance.resolution']= [0.049, 0.049, 0.2000]\n",
    "\n",
    "\n",
    "filenames =  ['/home/murphylab/cellorganizer/models/3D/nuc.mat']\n",
    "\n",
    "\n",
    "slml2img( filenames, param )"
   ]
  }
 ],
 "metadata": {
  "kernelspec": {
   "display_name": "Python 3",
   "language": "python",
   "name": "python3"
  },
  "language_info": {
   "codemirror_mode": {
    "name": "ipython",
    "version": 3
   },
   "file_extension": ".py",
   "mimetype": "text/x-python",
   "name": "python",
   "nbconvert_exporter": "python",
   "pygments_lexer": "ipython3",
   "version": "3.6.8"
  }
 },
 "nbformat": 4,
 "nbformat_minor": 2
}
