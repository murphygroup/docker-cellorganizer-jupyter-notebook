{
 "cells": [
  {
   "cell_type": "markdown",
   "metadata": {},
   "source": [
    "\n",
    "# demo3D25\n",
    "Synthesizes 1 image using a lysosomal model with sampling mode\n",
    "set to 'disc', no convolution and output.SBML set to true.\n",
    "Results will be three TIFF files, one each for cell boundary,\n",
    "nuclear boundary, and lysosomes, in folder \"synthesizedImages/cell1\"\n",
    "Additionally, in the folder \"synthesizedImages/\" will be a\n",
    "SBML-Spatial(v0.82a) formatted .xml file containing constructed solid\n",
    "geometry(CSG) primitives for lysosomes and parametric objects for the\n",
    "cell and nuclear shapes.\n",
    "\n",
    "These files can then be read into VCell using the built in importer or\n",
    "CellBlender using the helper function provided in this distribution.\n",
    "\n",
    "## Input \n",
    "* valid SBML model\n",
    "\n",
    "## Output\n",
    "* three TIFF files\n",
    "* XML file with primitives for lysosomes and parametric objects \n",
    "\n"
   ]
  },
  {
   "cell_type": "code",
   "execution_count": 6,
   "metadata": {},
   "outputs": [],
   "source": [
    "import os\n",
    "from cellorganizer.tools import slml2img\n",
    "\n",
    "if not os.path.exists('../../../models/3D/lamp2.mat'):\n",
    "    os.system('wget -nc --quiet http://www.cellorganizer.org/model_repository/models/3D/lamp2.mat')\n",
    "    file = 'lamp2.mat'\n",
    "else:\n",
    "    file = '../../../models/3D/lamp2.mat'\n",
    "\n",
    "\n",
    "options = {}\n",
    "options['targetDirectory'] = 'pwd'\n",
    "options['prefix'] = 'img'\n",
    "options['compression'] = 'lzw'\n",
    "options['sampling.method'] = 'disc'\n",
    "options['debug'] = False\n",
    "options['verbose'] = True\n",
    "options['display'] = False\n",
    "options['numberOfSynthesizedImages'] = 1\n",
    "\n",
    "options['output.blenderfile'] = True\n",
    "options['output.blender.downsample'] = 5\n",
    "options['output.tifimages'] = True\n",
    "options['output.SBML'] = True\n",
    "\n",
    "slml2img({file},options)"
   ]
  },
  {
   "cell_type": "code",
   "execution_count": null,
   "metadata": {},
   "outputs": [],
   "source": []
  }
 ],
 "metadata": {
  "kernelspec": {
   "display_name": "Python 3",
   "language": "python",
   "name": "python3"
  },
  "language_info": {
   "codemirror_mode": {
    "name": "ipython",
    "version": 3
   },
   "file_extension": ".py",
   "mimetype": "text/x-python",
   "name": "python",
   "nbconvert_exporter": "python",
   "pygments_lexer": "ipython3",
   "version": "3.6.8"
  }
 },
 "nbformat": 4,
 "nbformat_minor": 2
}
