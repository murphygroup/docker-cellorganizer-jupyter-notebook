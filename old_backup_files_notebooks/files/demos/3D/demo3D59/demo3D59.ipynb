{
 "cells": [
  {
   "cell_type": "markdown",
   "metadata": {},
   "source": [
    "# demo3D59\n",
    "Synthesize one 3D image with nuclear, cell shape and a vesicular channel.\n",
    "This demo exports portions of the synthetic image as SBML Spatial instances.\n",
    "\n",
    "## Input \n",
    "* a valid CellOrganizer model\n",
    "\n",
    "## Output\n",
    "* SBML instance\n",
    "* single channel TIF files\n"
   ]
  },
  {
   "cell_type": "code",
   "execution_count": 14,
   "metadata": {},
   "outputs": [],
   "source": [
    "from cellorganizer.tools import slml2slml, slml2img\n",
    "import os\n",
    "\n",
    "framework_model = '../../../models/3D/spharm/lamp2.mat'\n",
    "vesicle_model   = '../../../models/3D/tfr.mat'\n",
    "options_comb = {}\n",
    "options_comb['output_filename'] = 'combined_model.mat'\n",
    "options_comb['selection']       = '[1,1,0;0,0,1]'\n",
    "slml2slml([framework_model,vesicle_model], options_comb)\n",
    "\n",
    "options = {}\n",
    "options['seed'] = 639848\n",
    "options['targetDirectory'] = 'pwd'\n",
    "options['prefix'] = 'img'\n",
    "options['synthesis'] = 'all'\n",
    "options['model.spharm_rpdm.synthesis_method']= 'random_sampling'\n",
    "options['model.spharm_rpdm.imageSize'] = [205, 205, 18]\n",
    "options['numberOfSynthesizedImages'] = 1\n",
    "options['numberOfGaussianObjects'] = 5\n",
    "options['rendAtStd'] = 2.0\n",
    "options['objstd'] = 2.3\n",
    "options['overlapsubsize'] = 1\n",
    "options['overlapthresh'] = 0\n",
    "options['compression'] = 'lzw'\n",
    "options['microscope'] = 'none'\n",
    "options['sampling.method'] = 'disc'\n",
    "options['verbose'] = True\n",
    "options['debug'] = False\n",
    "options['output.tifimages'] = True\n",
    "options['output.OMETIFF'] = True\n",
    "options['output.indexedimage'] = True\n",
    "options['output.SBMLSpatial'] = True\n",
    "options['SBML.downsampling'] = [1/4, 1/4, 1]\n",
    "options['SBML.spatial_use_compression'] = True\n",
    "options['SBML.spatial_use_analytic_meshes'] = True\n",
    "options['SBML.spatial_image'] = False\n",
    "options['SBML.spatial_vcell_compatible'] = False\n",
    "\n",
    "slml2img({'combined_model.mat'}, options)"
   ]
  },
  {
   "cell_type": "code",
   "execution_count": null,
   "metadata": {},
   "outputs": [],
   "source": []
  }
 ],
 "metadata": {
  "kernelspec": {
   "display_name": "Python 3",
   "language": "python",
   "name": "python3"
  },
  "language_info": {
   "codemirror_mode": {
    "name": "ipython",
    "version": 3
   },
   "file_extension": ".py",
   "mimetype": "text/x-python",
   "name": "python",
   "nbconvert_exporter": "python",
   "pygments_lexer": "ipython3",
   "version": "3.7.1"
  }
 },
 "nbformat": 4,
 "nbformat_minor": 2
}
