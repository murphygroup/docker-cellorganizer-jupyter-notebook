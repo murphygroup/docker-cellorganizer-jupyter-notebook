{
 "cells": [
  {
   "cell_type": "markdown",
   "metadata": {},
   "source": [
    "# demo3D55\n",
    "Show shape space plot with a trained SPHARM-RPDM model\n",
    "\n",
    "## Input\n",
    "* a valid SLML model file\n",
    "\n",
    "## Output\n",
    "* a shape space plot\n"
   ]
  },
  {
   "cell_type": "code",
   "execution_count": null,
   "metadata": {},
   "outputs": [],
   "source": [
    "from cellorganizer.tools import slml2info\n",
    "from cellorganizer.tools import imshow\n",
    "import os\n",
    "options = {}\n",
    "file = '../demo3D53/lamp2.mat'\n",
    "if not os.path.isfile(file):\n",
    "    print(\"Run demo 3D52 first and generate model!\")\n",
    "else:\n",
    "    slml2info({file}, options)\n",
    "\n",
    "imshow('report/show_shape_space.png', {})\n"
   ]
  },
  {
   "cell_type": "code",
   "execution_count": null,
   "metadata": {},
   "outputs": [],
   "source": []
  }
 ],
 "metadata": {
  "kernelspec": {
   "display_name": "Python 3",
   "language": "python",
   "name": "python3"
  },
  "language_info": {
   "codemirror_mode": {
    "name": "ipython",
    "version": 3
   },
   "file_extension": ".py",
   "mimetype": "text/x-python",
   "name": "python",
   "nbconvert_exporter": "python",
   "pygments_lexer": "ipython3",
   "version": "3.7.3"
  }
 },
 "nbformat": 4,
 "nbformat_minor": 2
}
