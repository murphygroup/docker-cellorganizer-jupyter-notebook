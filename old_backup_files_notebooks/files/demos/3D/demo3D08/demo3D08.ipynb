{
 "cells": [
  {
   "cell_type": "markdown",
   "metadata": {},
   "source": [
    "# demo3D08"
   ]
  },
  {
   "cell_type": "markdown",
   "metadata": {},
   "source": [
    " Synthesize one 3D image with nuclear, cell shape, and vesicular channels from all vesicular object models (nucleoli, lysosomes, endosomes, and mitochondria) with sampling method set to render vesicular objects as ellipsoids without convolution. The model was trained from the Murphy Lab 3D HeLa dataset."
   ]
  },
  {
   "cell_type": "markdown",
   "metadata": {},
   "source": [
    "# Input"
   ]
  },
  {
   "cell_type": "markdown",
   "metadata": {},
   "source": [
    "* a list of valid CellOrganizer model files"
   ]
  },
  {
   "cell_type": "markdown",
   "metadata": {},
   "source": [
    "# Output"
   ]
  },
  {
   "cell_type": "markdown",
   "metadata": {},
   "source": [
    "* single indexed TIFF file which indexes the six TIFF files (nuclear, cell shape, nucleolar, lysosomal, endosomal, and mitochondrial channels)"
   ]
  },
  {
   "cell_type": "code",
   "execution_count": null,
   "metadata": {},
   "outputs": [],
   "source": [
    "from cellorganizer.tools import slml2img\n",
    "\n",
    "options = {}\n",
    "options['numberOfSynthesizedImages'] = 1\n",
    "options['targetDirectory'] = 'pwd'\n",
    "options['prefix'] = 'img'\n",
    "options['image.compression'] = 'lzw'\n",
    "options['microscope'] = 'none'\n",
    "options['sampling.method'] = 'disc'\n",
    "options['verbose'] = True\n",
    "options['debug'] = False\n",
    "options['output.indexedimage'] = True\n",
    "options['overlapthresh'] = 0\n",
    "\n",
    "\n",
    "filenames =  ['/home/murphylab/cellorganizer/models/3D/nuc.mat',\n",
    "             '/home/murphylab/cellorganizer/models/3D/lamp2.mat',\n",
    "             '/home/murphylab/cellorganizer/models/3D/tfr.mat', \n",
    "             '/home/murphylab/cellorganizer/models/3D/mit.mat']\n",
    "\n",
    "slml2img( filenames, options )"
   ]
  }
 ],
 "metadata": {
  "kernelspec": {
   "display_name": "Python 3",
   "language": "python",
   "name": "python3"
  },
  "language_info": {
   "codemirror_mode": {
    "name": "ipython",
    "version": 3
   },
   "file_extension": ".py",
   "mimetype": "text/x-python",
   "name": "python",
   "nbconvert_exporter": "python",
   "pygments_lexer": "ipython3",
   "version": "3.6.8"
  }
 },
 "nbformat": 4,
 "nbformat_minor": 2
}
