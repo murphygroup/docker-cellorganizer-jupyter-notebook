{
 "cells": [
  {
   "cell_type": "markdown",
   "metadata": {},
   "source": [
    "# demo3D00\n",
    "Synthesize one 3D image with nuclear, cell shape, and nucleolar channels from nucleolar model with sampling method set to render nucleoli as ellipsoids without convolution. The model was trained from the Murphy Lab 3D HeLa dataset.\n",
    "\n",
    "## Input \n",
    "* a valid CellOrganizer model file\n",
    "\n",
    "## Output\n",
    "* three TIFF files (nuclear, cell shape, and nucleolar channels)"
   ]
  },
  {
   "cell_type": "code",
   "execution_count": 4,
   "metadata": {},
   "outputs": [],
   "source": [
    "from cellorganizer.tools import slml2img\n",
    "\n",
    "options = {}\n",
    "options['targetDirectory'] = 'pwd'\n",
    "options['prefix'] = 'img'\n",
    "options['compression'] = 'lzw'\n",
    "options['sampling.method']= 'disc'\n",
    "options['debug'] = False\n",
    "options['verbose'] = True\n",
    "options['display'] = False\n",
    "filenames = ['/home/murphylab/cellorganizer/models/3D/nuc.mat']\n",
    "\n",
    "slml2img( filenames, options )"
   ]
  }
 ],
 "metadata": {
  "kernelspec": {
   "display_name": "Python 3",
   "language": "python",
   "name": "python3"
  },
  "language_info": {
   "codemirror_mode": {
    "name": "ipython",
    "version": 3
   },
   "file_extension": ".py",
   "mimetype": "text/x-python",
   "name": "python",
   "nbconvert_exporter": "python",
   "pygments_lexer": "ipython3",
   "version": "3.7.1"
  }
 },
 "nbformat": 4,
 "nbformat_minor": 2
}
