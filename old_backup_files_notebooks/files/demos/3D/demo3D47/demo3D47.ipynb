{
 "cells": [
  {
   "cell_type": "markdown",
   "metadata": {},
   "source": [
    "# demo3D47\n",
    "Combine two generative model files into a single file.\n",
    "\n",
    "## Input \n",
    "* a list of valid CellOrganizer model files\n",
    "\n",
    "## Output\n",
    "* a valid model\n"
   ]
  },
  {
   "cell_type": "code",
   "execution_count": null,
   "metadata": {},
   "outputs": [],
   "source": [
    "from cellorganizer.tools import slml2slml\n",
    "\n",
    "options = {}\n",
    "options['output_filename'] = 'model.mat'\n",
    "options['selection'] = '[1,1,0;0,0,1]'\n",
    "\n",
    "options['documentation.author'] = 'Murphy Lab'\n",
    "options['documentation.email'] = 'murphy@cmu.edu'\n",
    "options['documentation.website'] = 'http://www.cellorganizer.org'\n",
    "options['documentation.description'] = 'This combined model is the result from demo3D47.'\n",
    "options['documentation.date'] = 'date'\n",
    "\n",
    "file1 = '/home/murphylab/cellorganizer/models/3D/mit.mat'\n",
    "file2 = '/home/murphylab/cellorganizer/models/3D/nuc.mat'\n",
    "files = [file1, file2]\n",
    "\n",
    "slml2slml(files,options)"
   ]
  }
 ],
 "metadata": {
  "kernelspec": {
   "display_name": "Python 3",
   "language": "python",
   "name": "python3"
  },
  "language_info": {
   "codemirror_mode": {
    "name": "ipython",
    "version": 3
   },
   "file_extension": ".py",
   "mimetype": "text/x-python",
   "name": "python",
   "nbconvert_exporter": "python",
   "pygments_lexer": "ipython3",
   "version": "3.6.8"
  }
 },
 "nbformat": 4,
 "nbformat_minor": 2
}
