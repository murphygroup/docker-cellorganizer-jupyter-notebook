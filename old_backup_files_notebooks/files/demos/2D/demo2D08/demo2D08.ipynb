{
 "cells": [
  {
   "cell_type": "markdown",
   "metadata": {},
   "source": [
    "# demo2D08\n",
    "Makes a shape space plot from a PCA model.\n",
    "\n",
    "## Input \n",
    "* a generative model\n",
    "\n",
    "## Output\n",
    "* a valid SLML model file\n",
    "* a shape space plot"
   ]
  },
  {
   "cell_type": "code",
   "execution_count": 1,
   "metadata": {},
   "outputs": [],
   "source": [
    "from cellorganizer.tools import img2slml, slml2info\n",
    "import glob\n",
    "import urllib.request\n",
    "import tarfile \n",
    "import os\n",
    "\n",
    "slml2info({'/home/murphylab/cellorganizer/models/2D/HeLa_PCA/endosome.mat'}, {})"
   ]
  },
  {
   "cell_type": "code",
   "execution_count": null,
   "metadata": {},
   "outputs": [],
   "source": []
  }
 ],
 "metadata": {
  "kernelspec": {
   "display_name": "Python 3",
   "language": "python",
   "name": "python3"
  },
  "language_info": {
   "codemirror_mode": {
    "name": "ipython",
    "version": 3
   },
   "file_extension": ".py",
   "mimetype": "text/x-python",
   "name": "python",
   "nbconvert_exporter": "python",
   "pygments_lexer": "ipython3",
   "version": "3.7.3"
  }
 },
 "nbformat": 4,
 "nbformat_minor": 2
}
